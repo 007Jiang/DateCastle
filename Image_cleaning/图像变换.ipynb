{
 "cells": [
  {
   "cell_type": "code",
   "execution_count": 13,
   "metadata": {
    "collapsed": true
   },
   "outputs": [],
   "source": [
    "from PIL import Image\n",
    "\n",
    "import os\n",
    "\n",
    "import glob\n",
    "\n",
    "path = os.path.join('test', '*.png')  ##拼接路径\n",
    " \n",
    "files = glob.glob(path)\n",
    "\n",
    "def ReshapeFiles():  \n",
    "    for item in files:  \n",
    "        im = Image.open(item)\n",
    "        out = im.resize((224,224))\n",
    "        out.save(item)\n",
    "\n",
    "ReshapeFiles()  "
   ]
  },
  {
   "cell_type": "code",
   "execution_count": null,
   "metadata": {
    "collapsed": true
   },
   "outputs": [],
   "source": []
  }
 ],
 "metadata": {
  "kernelspec": {
   "display_name": "Python [Root]",
   "language": "python",
   "name": "Python [Root]"
  },
  "language_info": {
   "codemirror_mode": {
    "name": "ipython",
    "version": 2
   },
   "file_extension": ".py",
   "mimetype": "text/x-python",
   "name": "python",
   "nbconvert_exporter": "python",
   "pygments_lexer": "ipython2",
   "version": "2.7.11"
  }
 },
 "nbformat": 4,
 "nbformat_minor": 0
}
